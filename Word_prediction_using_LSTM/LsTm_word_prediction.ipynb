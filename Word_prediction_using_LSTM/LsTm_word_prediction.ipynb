{
 "cells": [
  {
   "cell_type": "code",
   "execution_count": 4,
   "id": "3af71b8f",
   "metadata": {},
   "outputs": [],
   "source": [
    "import collections\n",
    "def build_dataset(words):\n",
    "    count = collections.Counter(words).most_common() # put the words in alist based on freaquency(Number of times occur)\n",
    "    dictionary = dict()\n",
    "    for word, _ in count:\n",
    "        dictionary[word] = len(dictionary) # assign each word with the len of d{} like word is the key and index is the value.\n",
    "    reverse_dictionary = dict(zip(dictionary.values(), dictionary.keys())) # reverse the key and value \n",
    "    return dictionary, reverse_dictionary"
   ]
  },
  {
   "cell_type": "code",
   "execution_count": 24,
   "id": "3aa0408a",
   "metadata": {},
   "outputs": [
    {
     "name": "stdout",
     "output_type": "stream",
     "text": [
      "{'abcd': 0, 'a': 1, 'b': 2, 'c': 3, 'e': 4, 'rqst': 5}\n",
      "reversed is  {0: 'abcd', 1: 'a', 2: 'b', 3: 'c', 4: 'e', 5: 'rqst'}\n"
     ]
    }
   ],
   "source": [
    "# practice build_dataset function.\n",
    "w = ['a','b','c','e','abcd','rqst','a','b','abcd','abcd']\n",
    "a=collections.Counter(w).most_common()\n",
    "\n",
    "d = {}\n",
    "for i,_ in a: # _ indicates the frequency, no need for that \n",
    "    if i not in d: # only add word if not already in d{}\n",
    "        d[i] = len(d) # assign next index\n",
    "\n",
    "print(d)\n",
    "rev=dict(zip(d.values(),d.keys())) # reverse keys and values\n",
    "print(\"reversed is \",rev)"
   ]
  },
  {
   "cell_type": "code",
   "execution_count": null,
   "id": "2a3f0b03",
   "metadata": {},
   "outputs": [],
   "source": []
  },
  {
   "cell_type": "code",
   "execution_count": null,
   "id": "449e3946",
   "metadata": {},
   "outputs": [],
   "source": []
  }
 ],
 "metadata": {
  "kernelspec": {
   "display_name": "Python 3 (ipykernel)",
   "language": "python",
   "name": "python3"
  },
  "language_info": {
   "codemirror_mode": {
    "name": "ipython",
    "version": 3
   },
   "file_extension": ".py",
   "mimetype": "text/x-python",
   "name": "python",
   "nbconvert_exporter": "python",
   "pygments_lexer": "ipython3",
   "version": "3.9.13"
  }
 },
 "nbformat": 4,
 "nbformat_minor": 5
}
