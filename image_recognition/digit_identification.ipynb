{
 "cells": [
  {
   "cell_type": "code",
   "execution_count": 15,
   "id": "83144fd1",
   "metadata": {},
   "outputs": [],
   "source": [
    "from keras.datasets import mnist"
   ]
  },
  {
   "cell_type": "code",
   "execution_count": 4,
   "id": "1d7c3fec",
   "metadata": {
    "scrolled": true
   },
   "outputs": [
    {
     "name": "stdout",
     "output_type": "stream",
     "text": [
      "Epoch 1/5\n",
      "844/844 [==============================] - 6s 3ms/step - loss: 0.3264 - accuracy: 0.9083 - val_loss: 0.1541 - val_accuracy: 0.9573\n",
      "Epoch 2/5\n",
      "844/844 [==============================] - 2s 3ms/step - loss: 0.1500 - accuracy: 0.9559 - val_loss: 0.1154 - val_accuracy: 0.9662\n",
      "Epoch 3/5\n",
      "844/844 [==============================] - 2s 2ms/step - loss: 0.1046 - accuracy: 0.9698 - val_loss: 0.0918 - val_accuracy: 0.9745\n",
      "Epoch 4/5\n",
      "844/844 [==============================] - 2s 2ms/step - loss: 0.0783 - accuracy: 0.9770 - val_loss: 0.0873 - val_accuracy: 0.9733\n",
      "Epoch 5/5\n",
      "844/844 [==============================] - 2s 3ms/step - loss: 0.0617 - accuracy: 0.9822 - val_loss: 0.0809 - val_accuracy: 0.9762\n",
      "313/313 [==============================] - 0s 1ms/step - loss: 0.0870 - accuracy: 0.9753\n",
      "Test accuracy: 0.9753000140190125\n"
     ]
    }
   ],
   "source": [
    "import tensorflow as tf\n",
    "from tensorflow.keras.datasets import mnist\n",
    "from tensorflow.keras.models import Sequential\n",
    "from tensorflow.keras.layers import Flatten, Dense\n",
    "from tensorflow.keras.utils import to_categorical\n",
    "\n",
    "# Load and preprocess the MNIST dataset\n",
    "(train_images, train_labels), (test_images, test_labels) = mnist.load_data()\n",
    "train_images = train_images.reshape((60000, 28, 28, 1)).astype('float32') / 255\n",
    "test_images = test_images.reshape((10000, 28, 28, 1)).astype('float32') / 255\n",
    "train_labels = to_categorical(train_labels)\n",
    "test_labels = to_categorical(test_labels)\n",
    "\n",
    "# Build the neural network model\n",
    "model = Sequential()\n",
    "model.add(Flatten(input_shape=(28, 28, 1)))\n",
    "model.add(Dense(128, activation='relu'))\n",
    "model.add(Dense(10, activation='softmax'))\n",
    "\n",
    "# Compile the model\n",
    "model.compile(optimizer='adam', loss='categorical_crossentropy', metrics=['accuracy'])\n",
    "\n",
    "# Train the model\n",
    "model.fit(train_images, train_labels, epochs=5, batch_size=64, validation_split=0.1)\n",
    "\n",
    "# Evaluate the model\n",
    "test_loss, test_acc = model.evaluate(test_images, test_labels)\n",
    "print('Test accuracy:', test_acc)\n"
   ]
  },
  {
   "cell_type": "code",
   "execution_count": 9,
   "id": "f18da968",
   "metadata": {},
   "outputs": [
    {
     "name": "stdout",
     "output_type": "stream",
     "text": [
      "INFO:tensorflow:Assets written to: trained_model\\assets\n"
     ]
    },
    {
     "name": "stderr",
     "output_type": "stream",
     "text": [
      "INFO:tensorflow:Assets written to: trained_model\\assets\n"
     ]
    }
   ],
   "source": [
    "a=model.save('trained_model')"
   ]
  },
  {
   "cell_type": "code",
   "execution_count": 14,
   "id": "36295df5",
   "metadata": {},
   "outputs": [
    {
     "name": "stdout",
     "output_type": "stream",
     "text": [
      "1/1 [==============================] - 0s 362ms/step\n",
      "Predicted class: 3\n"
     ]
    }
   ],
   "source": [
    "import tensorflow as tf\n",
    "import numpy as np\n",
    "from PIL import Image\n",
    "\n",
    "# Load the trained model\n",
    "model = tf.keras.models.load_model(r\"C:\\Users\\HARISH A K\\Desktop\\python\\Deep_Learning\\Deep_learning_projects\\image_recognition\\trained_model\")\n",
    "\n",
    "img_path = r\"C:\\Users\\HARISH A K\\Desktop\\python\\Deep_Learning\\Deep_learning_projects\\image_recognition\\th.jfif\"\n",
    "\n",
    "# Load and preprocess the new image\n",
    "new_image = Image.open(img_path)\n",
    "new_image = new_image.convert('L')  # Convert to grayscale\n",
    "new_image = new_image.resize((28, 28))  # Resize to match the MNIST input size\n",
    "new_image_array = np.array(new_image)\n",
    "new_image_array = new_image_array.reshape((1, 28, 28, 1)).astype('float32') / 255\n",
    "\n",
    "# Make predictions\n",
    "predictions = model.predict(new_image_array)\n",
    "predicted_class = np.argmax(predictions)\n",
    "\n",
    "print('Predicted class:', predicted_class)\n"
   ]
  },
  {
   "cell_type": "code",
   "execution_count": null,
   "id": "ea60e1b4",
   "metadata": {},
   "outputs": [],
   "source": []
  }
 ],
 "metadata": {
  "kernelspec": {
   "display_name": "Python 3 (ipykernel)",
   "language": "python",
   "name": "python3"
  },
  "language_info": {
   "codemirror_mode": {
    "name": "ipython",
    "version": 3
   },
   "file_extension": ".py",
   "mimetype": "text/x-python",
   "name": "python",
   "nbconvert_exporter": "python",
   "pygments_lexer": "ipython3",
   "version": "3.9.13"
  }
 },
 "nbformat": 4,
 "nbformat_minor": 5
}
