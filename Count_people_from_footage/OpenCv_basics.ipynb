{
 "cells": [
  {
   "cell_type": "code",
   "execution_count": null,
   "id": "28285300",
   "metadata": {},
   "outputs": [],
   "source": [
    "import cv2\n",
    "import numpy as np"
   ]
  },
  {
   "cell_type": "code",
   "execution_count": null,
   "id": "38d2fb85",
   "metadata": {},
   "outputs": [],
   "source": [
    "cap=cv2.VideoCapture(0) # open defaults camera\n",
    "while True:\n",
    "    ret,frame=cap.read() # read frame from the camera\n",
    "    if ret: # ret - checks if the name was read correctly.\n",
    "        cv2.imshow('Camera View',frame) # display each frame in the window named '  '.\n",
    "    if cv2.waitKey(1) & 0xFF==ord('q'): # if q is checket break the loop.\n",
    "        break\n",
    "cap.release() # close the camera resource\n",
    "cv2.destroyAllWindows()   # close all opencv windows."
   ]
  },
  {
   "cell_type": "code",
   "execution_count": 18,
   "id": "e1ba759a",
   "metadata": {},
   "outputs": [],
   "source": [
    "cap=cv2.VideoCapture('example.mp4') # open video\n",
    "while cap.isOpened(): # checks if the video file was opened successfully\n",
    "    ret,frame=cap.read() # read frame from the camera\n",
    "    if ret: # ret - checks if the name was read correctly.\n",
    "        cv2.imshow('VIEW',frame) # display each frame in the window named '  '.\n",
    "    if cv2.waitKey(1) & 0xFF==ord('q'): # if q is checket break the loop. cv2.waitkey(\"waits 10 milliseconds for input \")\n",
    "        break\n",
    "cap.release() # close the camera resource\n",
    "cv2.destroyAllWindows()   # close all opencv windows."
   ]
  },
  {
   "cell_type": "code",
   "execution_count": 55,
   "id": "e78be43f",
   "metadata": {},
   "outputs": [
    {
     "name": "stdout",
     "output_type": "stream",
     "text": [
      "Highest people count in a frame: 14\n"
     ]
    }
   ],
   "source": []
  },
  {
   "cell_type": "code",
   "execution_count": null,
   "id": "d193802e",
   "metadata": {},
   "outputs": [],
   "source": []
  }
 ],
 "metadata": {
  "kernelspec": {
   "display_name": "Python 3 (ipykernel)",
   "language": "python",
   "name": "python3"
  },
  "language_info": {
   "codemirror_mode": {
    "name": "ipython",
    "version": 3
   },
   "file_extension": ".py",
   "mimetype": "text/x-python",
   "name": "python",
   "nbconvert_exporter": "python",
   "pygments_lexer": "ipython3",
   "version": "3.9.13"
  }
 },
 "nbformat": 4,
 "nbformat_minor": 5
}
