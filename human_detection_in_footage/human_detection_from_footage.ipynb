{
 "cells": [
  {
   "cell_type": "code",
   "execution_count": 1,
   "id": "3e149182",
   "metadata": {},
   "outputs": [],
   "source": [
    "import cv2\n",
    "import numpy as np\n",
    "# Load the YOLOv3 model\n",
    "net = cv2.dnn.readNet(\"yolov3.weights\", \"yolov3.cfg\")\n",
    "# Load the CCTV footage\n",
    "cap = cv2.VideoCapture(\"footage.mp4\")\n"
   ]
  },
  {
   "cell_type": "code",
   "execution_count": 2,
   "id": "3bd13be2",
   "metadata": {},
   "outputs": [
    {
     "name": "stdout",
     "output_type": "stream",
     "text": [
      "All frames are processed\n",
      "Total frames extracted: 71\n"
     ]
    }
   ],
   "source": [
    "import cv2\n",
    "# Specify the path to save the extracted frames\n",
    "extracted_frame_path = r\"C:\\Users\\HARISH A K\\Desktop\\python\\Deep_Learning\\Deep_learning_projects\\human_detection_in_footage\\frames_path\"\n",
    "\n",
    "# Specify the frame interval to extract (every 12th frame)\n",
    "frame_interval = 12\n",
    "\n",
    "frame_count = 0  # Count of all frames processed\n",
    "extracted_frame_count = 0  # Count of frames actually extracted\n",
    "\n",
    "while True:\n",
    "    success, img = cap.read()\n",
    "    \n",
    "    if not success:\n",
    "        print(\"All frames are processed\")\n",
    "        break\n",
    "    \n",
    "    frame_count += 1\n",
    "    \n",
    "    if frame_count % frame_interval == 0:\n",
    "        extracted_frame_count += 1\n",
    "        filename = extracted_frame_path + \"\\\\frame%d.jpg\" % extracted_frame_count\n",
    "        cv2.imwrite(filename, img)\n",
    "    \n",
    "\n",
    "    \n",
    "# Release the capture\n",
    "cap.release()\n",
    "\n",
    "# Print the total number of frames extracted\n",
    "print(\"Total frames extracted:\", extracted_frame_count)\n"
   ]
  },
  {
   "cell_type": "code",
   "execution_count": 3,
   "id": "466c1b7b",
   "metadata": {},
   "outputs": [],
   "source": [
    "\n",
    "# Initialize variables for counting people and tracking frames with highest and lowest counts\n",
    "highest_people_count = 0\n",
    "highest_frame_number = -1\n",
    "lowest_people_count = float('inf')\n",
    "lowest_frame_number = -1\n",
    "\n"
   ]
  },
  {
   "cell_type": "code",
   "execution_count": 4,
   "id": "1924e6b2",
   "metadata": {},
   "outputs": [
    {
     "name": "stdout",
     "output_type": "stream",
     "text": [
      "Frame 3 has the highest people count: 5\n",
      "Frame 14 has the lowest people count: 2\n"
     ]
    }
   ],
   "source": [
    "# Loop through each frame\n",
    "for i in range(1, 72):  # Assuming you have 71 frames extracted\n",
    "    # Load the extracted frame\n",
    "    frame_path = extracted_frame_path + \"\\\\frame%d.jpg\" % i\n",
    "    image = cv2.imread(frame_path)\n",
    "    height, width = image.shape[:2]\n",
    "    \n",
    "    # Preprocess the frame for YOLO\n",
    "    blob = cv2.dnn.blobFromImage(image, 0.00392, (416, 416), swapRB=True, crop=False)\n",
    "    net.setInput(blob)\n",
    "    \n",
    "    # Run YOLO and get the output\n",
    "    outs = net.forward(net.getUnconnectedOutLayersNames())\n",
    "    \n",
    "    # Thresholds for detection\n",
    "    conf_threshold = 0.5\n",
    "    nms_threshold = 0.4\n",
    "    \n",
    "    # Initialize lists to store detection results\n",
    "    class_ids = []\n",
    "    confidences = []\n",
    "    boxes = []\n",
    "    \n",
    "    # Process detections\n",
    "    for out in outs:\n",
    "        for detection in out:\n",
    "            scores = detection[5:]\n",
    "            class_id = np.argmax(scores)\n",
    "            confidence = scores[class_id]\n",
    "            \n",
    "            if confidence > conf_threshold and class_id == 0:  # 0 corresponds to the 'person' class\n",
    "                center_x = int(detection[0] * width)\n",
    "                center_y = int(detection[1] * height)\n",
    "                w = int(detection[2] * width)\n",
    "                h = int(detection[3] * height)\n",
    "                x = int(center_x - w / 2)\n",
    "                y = int(center_y - h / 2)\n",
    "                \n",
    "                class_ids.append(class_id)\n",
    "                confidences.append(float(confidence))\n",
    "                boxes.append([x, y, w, h])\n",
    "    \n",
    "    # Apply non-maximum suppression\n",
    "    indices = cv2.dnn.NMSBoxes(boxes, confidences, conf_threshold, nms_threshold)\n",
    "    \n",
    "    # Get the count of detected people for the current frame\n",
    "    count = len(indices)\n",
    "    \n",
    "    # Update the highest and lowest counts along with their respective frame numbers\n",
    "    if count > highest_people_count:\n",
    "        highest_people_count = count\n",
    "        highest_frame_number = i\n",
    "    if count < lowest_people_count:\n",
    "        lowest_people_count = count\n",
    "        lowest_frame_number = i\n",
    "# Print frames with highest and lowest people count\n",
    "if highest_frame_number != -1:\n",
    "    print(f\"Frame {highest_frame_number} has the highest people count: {highest_people_count}\")\n",
    "if lowest_frame_number != -1:\n",
    "    print(f\"Frame {lowest_frame_number} has the lowest people count: {lowest_people_count}\")\n"
   ]
  },
  {
   "cell_type": "code",
   "execution_count": 10,
   "id": "6bbeab4a",
   "metadata": {},
   "outputs": [],
   "source": [
    "import cv2\n",
    "\n",
    "# Loop through each frame\n",
    "for i in range(1, 72):\n",
    "    # Load the extracted frame\n",
    "    frame_path = extracted_frame_path + \"\\\\frame%d.jpg\" % i\n",
    "    image = cv2.imread(frame_path)\n",
    "    # Draw bounding boxes around detected people\n",
    "    for index in indices:\n",
    "        #index = index[0]\n",
    "        x, y, w, h = boxes[index]\n",
    "        color = (0, 255, 0)  # BGR color for the bounding box (green)\n",
    "        cv2.rectangle(image, (x, y), (x + w, y + h), color, 2)\n",
    "    \n",
    "    # Display the frame with bounding boxes\n",
    "    cv2.imshow('Video with Bounding Boxes', image)\n",
    "    \n",
    "    # Wait for a short duration and handle key presses\n",
    "    key = cv2.waitKey(280)\n",
    "    \n",
    "    # Press 'q' to exit playback\n",
    "    if key == ord('q'):\n",
    "        break\n",
    "\n",
    "# Close OpenCV windows\n",
    "cv2.destroyAllWindows()\n"
   ]
  },
  {
   "cell_type": "code",
   "execution_count": null,
   "id": "e95cc20a",
   "metadata": {},
   "outputs": [],
   "source": []
  }
 ],
 "metadata": {
  "kernelspec": {
   "display_name": "Python 3 (ipykernel)",
   "language": "python",
   "name": "python3"
  },
  "language_info": {
   "codemirror_mode": {
    "name": "ipython",
    "version": 3
   },
   "file_extension": ".py",
   "mimetype": "text/x-python",
   "name": "python",
   "nbconvert_exporter": "python",
   "pygments_lexer": "ipython3",
   "version": "3.9.13"
  }
 },
 "nbformat": 4,
 "nbformat_minor": 5
}
