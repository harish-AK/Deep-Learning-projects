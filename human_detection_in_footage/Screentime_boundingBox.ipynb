{
 "cells": [
  {
   "cell_type": "code",
   "execution_count": 7,
   "id": "bc35787d",
   "metadata": {},
   "outputs": [],
   "source": [
    "import cv2"
   ]
  },
  {
   "cell_type": "code",
   "execution_count": 8,
   "id": "0fef1643",
   "metadata": {},
   "outputs": [],
   "source": [
    "extraction_path=r\"C:\\Users\\HARISH A K\\Desktop\\python\\Deep_Learning\\Deep_learning_projects\\screen_time_and_boundingBox\\extraction_frames\""
   ]
  },
  {
   "cell_type": "code",
   "execution_count": 14,
   "id": "e6da88c8",
   "metadata": {},
   "outputs": [
    {
     "name": "stdout",
     "output_type": "stream",
     "text": [
      "The frames per second (fps) of the video is: 24\n"
     ]
    }
   ],
   "source": [
    "\n",
    "\n",
    "# Path to the video file\n",
    "video_path = 'data.mp4'\n",
    "\n",
    "# Open the video file\n",
    "cap = cv2.VideoCapture(video_path)\n",
    "\n",
    "# Get the frames per second (fps) of the video\n",
    "fps = int(cap.get(cv2.CAP_PROP_FPS))\n",
    "\n",
    "# Release the video capture object\n",
    "cap.release()\n",
    "\n",
    "print(f\"The frames per second (fps) of the video is: {fps}\")\n"
   ]
  },
  {
   "cell_type": "code",
   "execution_count": 16,
   "id": "14ae6222",
   "metadata": {},
   "outputs": [
    {
     "name": "stdout",
     "output_type": "stream",
     "text": [
      "All frames extracted\n",
      "Total frames: 240\n"
     ]
    }
   ],
   "source": [
    "frames_count = 0\n",
    "\n",
    "video_path = 'data.mp4'\n",
    "\n",
    "cap = cv2.VideoCapture(video_path)\n",
    "\n",
    "while True:\n",
    "    \n",
    "    ret, img = cap.read()\n",
    "    \n",
    "    if not ret:\n",
    "        print(\"All frames extracted\")\n",
    "        break\n",
    "\n",
    "    frames_count += 1\n",
    "    filename = extraction_path + \"\\\\frame%d.jpg\" % frames_count\n",
    "    cv2.imwrite(filename, img)\n",
    "\n",
    "print(\"Total frames:\", frames_count)\n",
    "\n",
    "# Release the video capture object\n",
    "cap.release()"
   ]
  },
  {
   "cell_type": "markdown",
   "id": "e171b3ab",
   "metadata": {},
   "source": [
    "# (i) Object Detection and Bounding Boxes\n",
    "\n",
    "# (ii) Counting People\n",
    "\n",
    "# (iii) Screen Time Calculation\n"
   ]
  },
  {
   "cell_type": "code",
   "execution_count": null,
   "id": "9c6dba8c",
   "metadata": {},
   "outputs": [],
   "source": []
  }
 ],
 "metadata": {
  "kernelspec": {
   "display_name": "Python 3 (ipykernel)",
   "language": "python",
   "name": "python3"
  },
  "language_info": {
   "codemirror_mode": {
    "name": "ipython",
    "version": 3
   },
   "file_extension": ".py",
   "mimetype": "text/x-python",
   "name": "python",
   "nbconvert_exporter": "python",
   "pygments_lexer": "ipython3",
   "version": "3.9.13"
  }
 },
 "nbformat": 4,
 "nbformat_minor": 5
}
