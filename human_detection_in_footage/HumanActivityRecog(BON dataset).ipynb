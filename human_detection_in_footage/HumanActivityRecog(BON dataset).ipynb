{
 "cells": [
  {
   "cell_type": "code",
   "execution_count": 26,
   "id": "65905eb4",
   "metadata": {},
   "outputs": [],
   "source": [
    "import os\n",
    "\n",
    "# Define the path to the directory containing your videos\n",
    "videos_directory = r\"D:\\HARenv\\office_activity\""
   ]
  },
  {
   "cell_type": "code",
   "execution_count": 32,
   "id": "9ba5338a",
   "metadata": {},
   "outputs": [
    {
     "name": "stdout",
     "output_type": "stream",
     "text": [
      "'rowave.MP4': 8 videos\n",
      "'h.MP4': 5 videos\n",
      "'microwave.MP4': 6 videos\n",
      "'wash.MP4': 7 videos\n",
      "'dryer.MP4': 5 videos\n",
      "'walk.MP4': 14 videos\n",
      "'machine.MP4': 5 videos\n",
      "'take.MP4': 5 videos\n",
      "'open.MP4': 1 videos\n",
      "'typeset.MP4': 5 videos\n",
      "'drink.MP4': 5 videos\n",
      "'chat.MP4': 12 videos\n",
      "'wave.MP4': 8 videos\n",
      "'shake.MP4': 6 videos\n",
      "'read.MP4': 6 videos\n",
      "'whiteboard.MP4': 12 videos\n",
      "'clean.MP4': 6 videos\n",
      "'print.MP4': 5 videos\n",
      "'staple.MP4': 5 videos\n",
      "'paper.MP4': 5 videos\n",
      "'write.MP4': 4 videos\n",
      "'mobile.MP4': 4 videos\n",
      "'wake.MP4': 1 videos\n"
     ]
    }
   ],
   "source": [
    "from collections import Counter\n",
    "\n",
    "# Count the occurrences of each unique value\n",
    "data = Counter(dataset.values())\n",
    "\n",
    "# Print the unique values and their counts\n",
    "for value, count in data.items():\n",
    "    print(f\"'{value}': {count} videos\")"
   ]
  },
  {
   "cell_type": "code",
   "execution_count": null,
   "id": "46d2b88e-db7d-4f9c-8292-f5a82367a917",
   "metadata": {},
   "outputs": [],
   "source": []
  },
  {
   "cell_type": "code",
   "execution_count": null,
   "id": "5aec96c5-020d-4960-bbb9-ae9be985f825",
   "metadata": {},
   "outputs": [],
   "source": []
  }
 ],
 "metadata": {
  "kernelspec": {
   "display_name": "Python 3 (ipykernel)",
   "language": "python",
   "name": "python3"
  },
  "language_info": {
   "codemirror_mode": {
    "name": "ipython",
    "version": 3
   },
   "file_extension": ".py",
   "mimetype": "text/x-python",
   "name": "python",
   "nbconvert_exporter": "python",
   "pygments_lexer": "ipython3",
   "version": "3.10.11"
  }
 },
 "nbformat": 4,
 "nbformat_minor": 5
}
