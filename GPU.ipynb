{
 "cells": [
  {
   "cell_type": "code",
   "execution_count": 37,
   "id": "4c6958a4-fc51-4111-810b-4ed156b3f8be",
   "metadata": {},
   "outputs": [],
   "source": [
    "import tensorflow as tf\n",
    "import time"
   ]
  },
  {
   "cell_type": "code",
   "execution_count": 38,
   "id": "8ce7ed2f-7301-4cb2-b8fa-0236111003be",
   "metadata": {},
   "outputs": [
    {
     "name": "stdout",
     "output_type": "stream",
     "text": [
      "GPU is available.\n"
     ]
    }
   ],
   "source": [
    "if tf.test.gpu_device_name():\n",
    "    print(\"GPU is available.\")\n",
    "else:\n",
    "    print(\"No GPU is available.\")"
   ]
  },
  {
   "cell_type": "code",
   "execution_count": 39,
   "id": "4b3e31da-3e32-40b8-805f-75244eead7ba",
   "metadata": {},
   "outputs": [
    {
     "name": "stdout",
     "output_type": "stream",
     "text": [
      "GPU Name: NVIDIA GeForce MX350\n"
     ]
    }
   ],
   "source": [
    "result = subprocess.check_output([\"nvidia-smi\", \"--query-gpu=name\", \"--format=csv,noheader,nounits\"])\n",
    "gpu_name = result.decode(\"utf-8\").strip()\n",
    "print(\"GPU Name:\", gpu_name)"
   ]
  },
  {
   "cell_type": "code",
   "execution_count": 67,
   "id": "294f7d58-9640-4481-a488-2ce3fbd45083",
   "metadata": {},
   "outputs": [
    {
     "name": "stdout",
     "output_type": "stream",
     "text": [
      "Matrix size: 100x100\n",
      "CPU Time: 0.0897984504699707 seconds\n",
      "GPU Time: 0.0009963512420654297 seconds\n"
     ]
    }
   ],
   "source": [
    "\n",
    "# Define the matrix sizes\n",
    "matrix_size = 100  # You can adjust this based on your needs\n",
    "\n",
    "# Create random matrices\n",
    "matrix_a = tf.random.normal(shape=(matrix_size, matrix_size))\n",
    "matrix_b = tf.random.normal(shape=(matrix_size, matrix_size))\n",
    "\n",
    "# CPU multiplication\n",
    "start_time = time.time()\n",
    "with tf.device('/CPU:0'):\n",
    "    result_cpu = tf.matmul(matrix_a, matrix_b)\n",
    "cpu_time = time.time() - start_time\n",
    "\n",
    "# GPU multiplication\n",
    "start_time = time.time()\n",
    "with tf.device('/GPU:0'):\n",
    "    result_gpu = tf.matmul(matrix_a, matrix_b)\n",
    "gpu_time = time.time() - start_time\n",
    "\n",
    "# Check if the results match\n",
    "if tf.reduce_all(tf.equal(result_cpu, result_gpu)):\n",
    "    print(\"Results match!\")\n",
    "\n",
    "print(f\"Matrix size: {matrix_size}x{matrix_size}\")\n",
    "print(f\"CPU Time: {cpu_time} seconds\")\n",
    "print(f\"GPU Time: {gpu_time} seconds\")\n"
   ]
  },
  {
   "cell_type": "code",
   "execution_count": null,
   "id": "51a297af-7ca2-432b-84b5-95fd9c13ceb5",
   "metadata": {},
   "outputs": [],
   "source": []
  }
 ],
 "metadata": {
  "kernelspec": {
   "display_name": "Python 3 (ipykernel)",
   "language": "python",
   "name": "python3"
  },
  "language_info": {
   "codemirror_mode": {
    "name": "ipython",
    "version": 3
   },
   "file_extension": ".py",
   "mimetype": "text/x-python",
   "name": "python",
   "nbconvert_exporter": "python",
   "pygments_lexer": "ipython3",
   "version": "3.8.15"
  },
  "widgets": {
   "application/vnd.jupyter.widget-state+json": {
    "state": {},
    "version_major": 2,
    "version_minor": 0
   }
  }
 },
 "nbformat": 4,
 "nbformat_minor": 5
}
